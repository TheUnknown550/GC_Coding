{
 "cells": [
  {
   "cell_type": "markdown",
   "metadata": {
    "colab_type": "text",
    "id": "w18VoqIoBYRY"
   },
   "source": [
    "---\n",
    "\n",
    "# ทดลองทำ Linear Regression #1\n",
    "\n",
    "---"
   ]
  },
  {
   "cell_type": "markdown",
   "metadata": {
    "colab_type": "text",
    "id": "m0--PXvg-oJb"
   },
   "source": [
    "สร้างข้อมูล / นำเข้าข้อมูล .. ขนาดพื้นที่ x และ ราคา (พันบาท) y\n"
   ]
  },
  {
   "cell_type": "code",
   "execution_count": 2,
   "metadata": {
    "colab": {},
    "colab_type": "code",
    "id": "ClKwgF4Sw1nx"
   },
   "outputs": [],
   "source": [
    "import numpy as np\n",
    "\n",
    "x = np.array ([35,47,42,31,34,60,42,52,52,47,50,38,44,50,47,48,38,53,48,59])\n",
    "y = np.array ([2931,3975,3930,1856,3017,4178,3891,3885,3988,4024,3921,3560,3878,3791,3918,3939,3565,3970,3905,4130])"
   ]
  },
  {
   "cell_type": "code",
   "execution_count": 3,
   "metadata": {
    "colab": {},
    "colab_type": "code",
    "id": "P1TLX0wsigvD"
   },
   "outputs": [],
   "source": [
    "x = x.reshape(-1, 1)"
   ]
  },
  {
   "cell_type": "markdown",
   "metadata": {
    "colab_type": "text",
    "id": "tKZIktpDB5gU"
   },
   "source": [
    "เรียกใช้ Library Matplotlib .. เพื่อแสดงผลข้อมูล"
   ]
  },
  {
   "cell_type": "code",
   "execution_count": 4,
   "metadata": {
    "colab": {},
    "colab_type": "code",
    "id": "F_1TzwHCBvnN"
   },
   "outputs": [],
   "source": [
    "import matplotlib.pyplot as plt"
   ]
  },
  {
   "cell_type": "code",
   "execution_count": 5,
   "metadata": {
    "colab": {
     "base_uri": "https://localhost:8080/",
     "height": 265
    },
    "colab_type": "code",
    "id": "12ICXnaFByO-",
    "outputId": "7c974d5f-5b02-421c-df42-64f51e7c7ebd"
   },
   "outputs": [
    {
     "data": {
      "image/png": "[encoded data removed]",
      "text/plain": [
       "<Figure size 432x288 with 1 Axes>"
      ]
     },
     "metadata": {
      "needs_background": "light"
     },
     "output_type": "display_data"
    }
   ],
   "source": [
    "plt.scatter(x, y, s = 80, marker='+')\n",
    "plt.show()"
   ]
  },
  {
   "cell_type": "markdown",
   "metadata": {
    "colab_type": "text",
    "id": "QHLg4_O9CMPr"
   },
   "source": [
    "จาก Library sklearn (หรือ scikit learn) เราจะเรียกใช้ Linear Regression"
   ]
  },
  {
   "cell_type": "code",
   "execution_count": 5,
   "metadata": {
    "colab": {},
    "colab_type": "code",
    "id": "3MUAMrrYB2VZ"
   },
   "outputs": [],
   "source": [
    "from sklearn.linear_model import LinearRegression"
   ]
  },
  {
   "cell_type": "code",
   "execution_count": 6,
   "metadata": {
    "colab": {},
    "colab_type": "code",
    "id": "QWL9KFeHCDaM"
   },
   "outputs": [],
   "source": [
    "LR = LinearRegression(normalize=True)"
   ]
  },
  {
   "cell_type": "markdown",
   "metadata": {
    "colab_type": "text",
    "id": "eXX_jGCDqlSx"
   },
   "source": [
    "ทำการ Train model ด้วยข้อมูล x, y"
   ]
  },
  {
   "cell_type": "code",
   "execution_count": 7,
   "metadata": {
    "colab": {
     "base_uri": "https://localhost:8080/",
     "height": 34
    },
    "colab_type": "code",
    "id": "HOLr8KMlqkca",
    "outputId": "b20f2070-7795-4353-dbb7-2e40235c328f"
   },
   "outputs": [
    {
     "data": {
      "text/plain": [
       "LinearRegression(copy_X=True, fit_intercept=True, n_jobs=None, normalize=True)"
      ]
     },
     "execution_count": 7,
     "metadata": {},
     "output_type": "execute_result"
    }
   ],
   "source": [
    "LR.fit(x, y)"
   ]
  },
  {
   "cell_type": "markdown",
   "metadata": {
    "colab_type": "text",
    "id": "86f0C5TbDH5O"
   },
   "source": [
    "ถึงตอนนี้ .. เราจะได้ Linear Model แล้ว (เส้นสีแดง ในรูป)"
   ]
  },
  {
   "cell_type": "markdown",
   "metadata": {
    "colab_type": "text",
    "id": "lYpaNn2opfb8"
   },
   "source": [
    "![Linear_Regression_01.png](data:image/png;base64,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)"
   ]
  },
  {
   "cell_type": "markdown",
   "metadata": {
    "colab_type": "text",
    "id": "N4ArTfGgDSok"
   },
   "source": [
    "วัดประสิทธิภาพของ Model"
   ]
  },
  {
   "cell_type": "code",
   "execution_count": 8,
   "metadata": {
    "colab": {},
    "colab_type": "code",
    "id": "CSBNrwtPDMbf"
   },
   "outputs": [],
   "source": [
    "y_pred = LR.predict(x)"
   ]
  },
  {
   "cell_type": "code",
   "execution_count": 9,
   "metadata": {
    "colab": {
     "base_uri": "https://localhost:8080/",
     "height": 51
    },
    "colab_type": "code",
    "id": "bEWZSXPDDX-2",
    "outputId": "e6aca263-6f6b-4504-a503-ab3995380fba"
   },
   "outputs": [
    {
     "name": "stdout",
     "output_type": "stream",
     "text": [
      "('RMSE (Root Mean Squared Error) = ', 322.98243984781027)\n",
      "('R2 = ', 0.62755311807365377)\n"
     ]
    }
   ],
   "source": [
    "from sklearn.metrics import mean_squared_error, r2_score\n",
    "\n",
    "rmse = np.sqrt(mean_squared_error(y, y_pred))\n",
    "print ('RMSE (Root Mean Squared Error) = ', rmse)\n",
    "\n",
    "r2 = r2_score(y, y_pred)\n",
    "print ('R2 = ', r2)"
   ]
  },
  {
   "cell_type": "markdown",
   "metadata": {
    "colab_type": "text",
    "id": "nMR1ib7K2ujd"
   },
   "source": [
    "กรณีต้องการแสดงผล Linear Regression Model (เส้นสีแดง) เปรียบเทียบกับข้อมูลจริง (สีน้ำเงิน)"
   ]
  },
  {
   "cell_type": "code",
   "execution_count": 10,
   "metadata": {
    "colab": {
     "base_uri": "https://localhost:8080/",
     "height": 265
    },
    "colab_type": "code",
    "id": "SP-INE_Hwa77",
    "outputId": "8b43f20a-7cf3-4161-ed47-cde77f728c8c"
   },
   "outputs": [
    {
     "data": {
      "image/png": "[encoded data removed]",
      "text/plain": [
       "<matplotlib.figure.Figure at 0xd118bf0>"
      ]
     },
     "metadata": {},
     "output_type": "display_data"
    }
   ],
   "source": [
    "# Plot ข้อมูล (x,y) \n",
    "plt.scatter(x, y, s = 80, marker = '+', label = 'Data')\n",
    "\n",
    "# Plot Linear Regression Model (x,y_pred)\n",
    "plt.plot(x, y_pred, linewidth = 4, color = 'r', label = 'Linear Regression Model')\n",
    "\n",
    "plt.legend(loc='lower right')\n",
    "plt.show()"
   ]
  },
  {
   "cell_type": "markdown",
   "metadata": {
    "colab_type": "text",
    "id": "UfYAi5SA8Mkv"
   },
   "source": [
    "ใช้ Linear Model ทำนายราคาคอนโดขนาด 63 ตร.ม."
   ]
  },
  {
   "cell_type": "code",
   "execution_count": 11,
   "metadata": {
    "colab": {
     "base_uri": "https://localhost:8080/",
     "height": 34
    },
    "colab_type": "code",
    "id": "JiO5yP0Q4END",
    "outputId": "5bb42516-2835-4dd1-9726-87158f86f56d"
   },
   "outputs": [
    {
     "data": {
      "text/plain": [
       "array([ 4647.66403112])"
      ]
     },
     "execution_count": 11,
     "metadata": {},
     "output_type": "execute_result"
    }
   ],
   "source": [
    "LR.predict([[63]])"
   ]
  }
 ],
 "metadata": {
  "colab": {
   "name": "Linear_Regression_01.ipynb",
   "provenance": []
  },
  "kernelspec": {
   "display_name": "Python 3.9.13 64-bit",
   "language": "python",
   "name": "python3"
  },
  "language_info": {
   "codemirror_mode": {
    "name": "ipython",
    "version": 3
   },
   "file_extension": ".py",
   "mimetype": "text/x-python",
   "name": "python",
   "nbconvert_exporter": "python",
   "pygments_lexer": "ipython3",
   "version": "3.9.13"
  },
  "vscode": {
   "interpreter": {
    "hash": "c49a5877ec080be8c2290454af3b5794b96dd208b91db2ac2b9f0b6cce76764f"
   }
  }
 },
 "nbformat": 4,
 "nbformat_minor": 1
}
