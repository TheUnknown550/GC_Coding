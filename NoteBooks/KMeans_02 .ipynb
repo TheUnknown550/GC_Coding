{
 "cells": [
  {
   "cell_type": "markdown",
   "metadata": {
    "colab_type": "text",
    "id": "0u8ec2urdxQE"
   },
   "source": [
    "---\n",
    "\n",
    "# ทดลองทำ Clustering : K-Means #2\n",
    "\n",
    "---"
   ]
  },
  {
   "cell_type": "markdown",
   "metadata": {
    "colab_type": "text",
    "id": "UIPu3Uh6efPQ"
   },
   "source": [
    "สร้างข้อมูล (โดยใช้ sklearn datasets .. make blobs)\n",
    "*   กำหนด n_samples (จำนวน Samples) = 2000 จุด\n",
    "*   กำหนด random_state เพื่อให้การสุ่มครั้งต่อไปเหมือนเดิม"
   ]
  },
  {
   "cell_type": "code",
   "execution_count": 1,
   "metadata": {
    "colab": {},
    "colab_type": "code",
    "id": "ceY1vIp4fgpa"
   },
   "outputs": [],
   "source": [
    "from sklearn.datasets import make_blobs"
   ]
  },
  {
   "cell_type": "code",
   "execution_count": 2,
   "metadata": {
    "colab": {},
    "colab_type": "code",
    "id": "ilJfS2I5fh4c"
   },
   "outputs": [],
   "source": [
    "n_samples = 2000\n",
    "random_state = 170\n",
    "X, y = make_blobs(n_samples=n_samples, random_state=random_state)"
   ]
  },
  {
   "cell_type": "markdown",
   "metadata": {
    "colab_type": "text",
    "id": "wPV-SODsuBwg"
   },
   "source": [
    "นำเข้า Libraries ที่เกี่ยวข้อง"
   ]
  },
  {
   "cell_type": "code",
   "execution_count": 3,
   "metadata": {
    "colab": {},
    "colab_type": "code",
    "id": "hSM73UUFqSo-"
   },
   "outputs": [],
   "source": [
    "from sklearn.cluster import KMeans\n",
    "from scipy.spatial.distance import cdist\n",
    "import matplotlib.pyplot as plt\n",
    "import numpy as np"
   ]
  },
  {
   "cell_type": "markdown",
   "metadata": {
    "colab_type": "text",
    "id": "Z2-VaSnEuNsj"
   },
   "source": [
    "ทำการ Cluster ตั้งแต่ค่า K = 1 ถึง ค่า K = 10 .. และทำการ Plot ผลรวมของระยะทาง"
   ]
  },
  {
   "cell_type": "code",
   "execution_count": 4,
   "metadata": {
    "colab": {
     "base_uri": "https://localhost:8080/",
     "height": 295
    },
    "colab_type": "code",
    "id": "5v3drrmxeRM-",
    "outputId": "fb24828d-21a3-489d-a763-735704568e94"
   },
   "outputs": [
    {
     "data": {
      "image/png": "[encoded data removed]",
      "text/plain": [
       "<Figure size 432x288 with 1 Axes>"
      ]
     },
     "metadata": {
      "needs_background": "light",
      "tags": []
     },
     "output_type": "display_data"
    }
   ],
   "source": [
    "# k means determine k\n",
    "sse = []\n",
    "K = range(1,10)\n",
    "for k in K:\n",
    "    kmeanModel = KMeans(n_clusters=k)\n",
    "    kmeanModel.fit(X)\n",
    "    sse.append(sum(np.min(cdist(X, kmeanModel.cluster_centers_, 'euclidean'), axis=1)) / X.shape[0])\n",
    "\n",
    "# Plot \"Elbow curve\"\n",
    "plt.plot(K, sse,'bx-',linewidth=2,markersize=8)\n",
    "plt.xlabel('K')\n",
    "plt.ylabel('Sum of Squared Disctance')\n",
    "plt.title('The Elbow Method presents the optimal K')\n",
    "plt.show()"
   ]
  },
  {
   "cell_type": "code",
   "execution_count": 4,
   "metadata": {
    "colab": {},
    "colab_type": "code",
    "id": "la48H4l2qvm3"
   },
   "outputs": [],
   "source": []
  }
 ],
 "metadata": {
  "colab": {
   "name": "KMeans_02.ipynb",
   "provenance": []
  },
  "kernelspec": {
   "display_name": "Python 2",
   "language": "python",
   "name": "python2"
  },
  "language_info": {
   "codemirror_mode": {
    "name": "ipython",
    "version": 2
   },
   "file_extension": ".py",
   "mimetype": "text/x-python",
   "name": "python",
   "nbconvert_exporter": "python",
   "pygments_lexer": "ipython2",
   "version": "2.7.14"
  }
 },
 "nbformat": 4,
 "nbformat_minor": 1
}
