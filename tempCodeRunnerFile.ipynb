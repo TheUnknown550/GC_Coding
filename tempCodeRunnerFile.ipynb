print (boston.data[0:5])
print (boston.target[0:5])